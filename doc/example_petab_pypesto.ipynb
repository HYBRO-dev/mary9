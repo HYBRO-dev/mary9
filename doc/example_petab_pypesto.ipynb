{
 "cells": [
  {
   "cell_type": "code",
   "execution_count": null,
   "id": "487b66ad",
   "metadata": {},
   "outputs": [],
   "source": [
    "# import the packages\n",
    "import petab\n",
    "import pypesto.petab\n",
    "import amici\n",
    "\n",
    "import os.path as path\n",
    "\n",
    "from mary9 import Mary9Optimizer"
   ]
  },
  {
   "cell_type": "code",
   "execution_count": null,
   "id": "0f21a1b4",
   "metadata": {},
   "outputs": [],
   "source": [
    "# import the PEtab problem\n",
    "base_path = path.join('..', '..', 'Benchmark-Models-PEtab', 'Benchmark-Models')\n",
    "\n",
    "model_name = 'Boehm_JProteomeRes2014'\n",
    "# model_name = 'Crauste_CellSystems2017'\n",
    "# model_name = 'Fujita_SciSignal2010'\n",
    "# model_name = 'Sneyd_PNAS2002'\n",
    "# model_name = 'Weber_BMC2015'\n",
    "# model_name = 'Zheng_PNAS2012'\n",
    "\n",
    "# create a petab problem\n",
    "yaml_config = path.join(base_path, model_name, model_name + '.yaml')\n",
    "petab_problem = petab.Problem.from_yaml(yaml_config)\n",
    "importer = pypesto.petab.PetabImporter(petab_problem)\n",
    "\n",
    "# if the model has not yet been imported:\n",
    "problem = importer.create_problem(guess_steadystate=False)\n",
    "\n",
    "# If the model has already been imported, we can save some time:\n",
    "# import the AMICI module\n",
    "# model_path = path.join('amici_models', model_name)\n",
    "# amici_model_module = amici.import_model_module(module_name=model_name,\n",
    "#                                                module_path=model_path)\n",
    "# amici_model = amici_model_module.getModel()\n",
    "# problem = importer.create_problem(guess_steadystate=False,\n",
    "#                                   model=amici_model)"
   ]
  },
  {
   "cell_type": "code",
   "execution_count": null,
   "id": "29b243f8",
   "metadata": {},
   "outputs": [],
   "source": [
    "# set up the problem\n",
    "optimizer = Mary9Optimizer(objective_function=problem.objective,\n",
    "                           lower_bounds=problem.lb,\n",
    "                           upper_bounds=problem.ub,\n",
    "                           n_equivalent_multi_starts=20,\n",
    "                           random_seed=seed)\n",
    "# run minimzation\n",
    "final_results, final_population = optimizer.minimize()"
   ]
  },
  {
   "cell_type": "code",
   "execution_count": null,
   "id": "98509853",
   "metadata": {},
   "outputs": [],
   "source": [
    "# Print the best result\n",
    "print(final_results[0].fval)"
   ]
  }
 ],
 "metadata": {
  "kernelspec": {
   "display_name": "pydev_amici",
   "language": "python",
   "name": "pydev_amici"
  },
  "language_info": {
   "codemirror_mode": {
    "name": "ipython",
    "version": 3
   },
   "file_extension": ".py",
   "mimetype": "text/x-python",
   "name": "python",
   "nbconvert_exporter": "python",
   "pygments_lexer": "ipython3",
   "version": "3.9.4"
  }
 },
 "nbformat": 4,
 "nbformat_minor": 5
}
